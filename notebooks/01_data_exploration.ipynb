{
 "cells": [
  {
   "cell_type": "markdown",
   "metadata": {},
   "source": [
    "# Exploratory Data Analysis: Housing Price Prediction\n",
    "\n",
    "This notebook demonstrates advanced data exploration and analysis techniques using Pandas and NumPy for the California Housing dataset.\n",
    "\n",
    "**Author:** Your Name  \n",
    "**Date:** April 18, 2025"
   ]
  },
  {
   "cell_type": "code",
   "execution_count": null,
   "metadata": {},
   "source": [
    "# Import necessary libraries\n",
    "import numpy as np\n",
    "import pandas as pd\n",
    "import matplotlib.pyplot as plt\n",
    "import seaborn as sns\n",
    "from sklearn.datasets import fetch_california_housing\n",
    "import plotly.express as px\n",
    "import plotly.graph_objects as go\n",
    "from plotly.subplots import make_subplots\n",
    "import sys\n",
    "import os\n",
    "\n",
    "# Add the parent directory to the path to import from src\n",
    "sys.path.append('..')\n",
    "from src.data_processor import DataProcessor\n",
    "from src.visualization import AdvancedVisualizer\n",
    "\n",
    "# Set visualization styles\n",
    "sns.set_style('whitegrid')\n",
    "sns.set_context('notebook')\n",
    "plt.rcParams['figure.figsize'] = (12, 8)\n",
    "plt.rcParams['font.size'] = 12\n",
    "\n",
    "# For reproducibility\n",
    "np.random.seed(42)"
   ]
  },
  {
   "cell_type": "markdown",
   "metadata": {},
   "source": [
    "## 1. Data Loading and Initial Exploration\n",
    "\n",
    "We'll start by loading the California Housing dataset and examining its basic properties."
   ]
  },
  {
   "cell_type": "code",
   "execution_count": null,
   "metadata": {},
   "source": [
    "# Load the California Housing dataset\n",
    "housing_data = fetch_california_housing()\n",
    "\n",
    "# Create a DataFrame\n",
    "housing_df = pd.DataFrame(\n",
    "    data=housing_data.data,\n",
    "    columns=housing_data.feature_names\n",
    ")\n",
    "\n",
    "# Add the target variable\n",
    "housing_df['median_house_value'] = housing_data.target * 100000  # Convert to actual dollar values\n",
    "\n",
    "# Save the dataset to a CSV file for future use\n",
    "os.makedirs('../data', exist_ok=True)\n",
    "housing_df.to_csv('../data/housing.csv', index=False)\n",
    "\n",
    "# Display basic information\n",
    "print(f\"Dataset Shape: {housing_df.shape}\")\n",
    "print(f\"Number of Features: {housing_df.shape[1] - 1}\")\n",
    "print(f\"Number of Samples: {housing_df.shape[0]}\")\n",
    "\n",
    "# Display the first few rows\n",
    "housing_df.head()"
   ]
  },
  {
   "cell_type": "code",
   "execution_count": null,
   "metadata": {},
   "source": [
    "# Get detailed information about the dataset\n",
    "housing_df.info()"
   ]
  },
  {
   "cell_type": "code",
   "execution_count": null,
   "metadata": {},
   "source": [
    "# Generate summary statistics\n",
    "housing_df.describe().T"
   ]
  },
  {
   "cell_type": "markdown",
   "metadata": {},
   "source": [
    "## 2. Advanced Exploratory Data Analysis\n",
    "\n",
    "Now we'll use our custom classes for more in-depth data exploration."
   ]
  },
  {
   "cell_type": "code",
   "execution_count": null,
   "metadata": {},
   "source": [
    "# Initialize the DataProcessor and AdvancedVisualizer\n",
    "data_processor = DataProcessor(random_state=42)\n",
    "visualizer = AdvancedVisualizer()"
   ]
  },
  {
   "cell_type": "code",
   "execution_count": null,
   "metadata": {},
   "source": [
    "# Detect feature types\n",
    "numerical_features, categorical_features = data_processor.detect_feature_types(housing_df)\n",
    "\n",
    "# Analyze missing values (if any)\n",
    "missing_info = data_processor.analyze_missing_values(housing_df)\n",
    "missing_info"
   ]
  },
  {
   "cell_type": "markdown",
   "metadata": {},
   "source": [
    "### 2.1 Distribution Analysis\n",
    "\n",
    "Let's analyze the distributions of our numerical features and the target variable."
   ]
  },
  {
   "cell_type": "code",
   "execution_count": null,
   "metadata": {},
   "source": [
    "# Plot the distributions of numeric features\n",
    "visualizer.plot_feature_distributions(housing_df, features=numerical_features)"
   ]
  },
  {
   "cell_type": "code",
   "execution_count": null,
   "metadata": {},
   "source": [
    "# Examine the target variable distribution\n",
    "plt.figure(figsize=(12, 6))\n",
    "\n",
    "plt.subplot(1, 2, 1)\n",
    "sns.histplot(housing_df['median_house_value'], kde=True, color='blue')\n",
    "plt.title('Distribution of Median House Value')\n",
    "plt.xlabel('Median House Value ($)')\n",
    "plt.ylabel('Frequency')\n",
    "\n",
    "plt.subplot(1, 2, 2)\n",
    "sns.boxplot(y=housing_df['median_house_value'], color='blue')\n",
    "plt.title('Boxplot of Median House Value')\n",
    "plt.ylabel('Median House Value ($)')\n",
    "\n",
    "plt.tight_layout()\n",
    "plt.show()"
   ]
  },
  {
   "cell_type": "markdown",
   "metadata": {},
   "source": [
    "### 2.2 Correlation Analysis\n",
    "\n",
    "Let's examine the correlations between features and the target variable."
   ]
  },
  {
   "cell_type": "code",
   "execution_count": null,
   "metadata": {},
   "source": [
    "# Plot correlation matrix\n",
    "visualizer.plot_correlation_matrix(housing_df)"
   ]
  },
  {
   "cell_type": "code",
   "execution_count": null,
   "metadata": {},
   "source": [
    "# Plot features with highest correlation to target\n",
    "visualizer.plot_target_correlations(housing_df, target='median_house_value')"
   ]
  },
  {
   "cell_type": "markdown",
   "metadata": {},
   "source": [
    "### 2.3 Feature Relationships\n",
    "\n",
    "Let's examine relationships between key features and the target."
   ]
  },
  {
   "cell_type": "code",
   "execution_count": null,
   "metadata": {},
   "source": [
    "# Pairplot for important features\n",
    "important_features = ['MedInc', 'AveRooms', 'HouseAge', 'AveOccup', 'median_house_value']\n",
    "sns.pairplot(housing_df[important_features], corner=True, kind='reg', diag_kind='kde')\n",
    "plt.suptitle('Pairwise Relationships Between Key Features', y=1.02, fontsize=16)\n",
    "plt.show()"
   ]
  },
  {
   "cell_type": "code",
   "execution_count": null,
   "metadata": {},
   "source": [
    "# Plot the relationship between MedInc and median_house_value\n",
    "visualizer.plot_feature_against_target(\n",
    "    housing_df, \n",
    "    feature='MedInc', \n",
    "    target='median_house_value'\n",
    ")"
   ]
  },
  {
   "cell_type": "markdown",
   "metadata": {},
   "source": [
    "### 2.4 Geographic Analysis\n",
    "\n",
    "Since we have latitude and longitude data, let's analyze the geographic distribution of house prices."
   ]
  },
  {
   "cell_type": "code",
   "execution_count": null,
   "metadata": {},
   "source": [
    "# Create an interactive scatter plot of geographic data\n",
    "visualizer.plot_interactive_scatter(\n",
    "    housing_df,\n",
    "    x='Longitude', \n",
    "    y='Latitude',\n",
    "    color='median_house_value',\n",
    "    hover_data=['MedInc', 'Population'],\n",
    "    title='Geographic Distribution of House Prices'\n",
    ")"
   ]
  },
  {
   "cell_type": "code",
   "execution_count": null,
   "metadata": {},
   "source": [
    "# Create a geographic heatmap of house prices\n",
    "visualizer.plot_geographic_heatmap(\n",
    "    housing_df,\n",
    "    lat_col='Latitude',\n",
    "    lon_col='Longitude',\n",
    "    value_col='median_house_value',\n",
    "    title='Heatmap of California House Prices'\n",
    ")"
   ]
  },
  {
   "cell_type": "markdown",
   "metadata": {},
   "source": [
    "### 2.5 Advanced Feature Engineering Preview\n",
    "\n",
    "Let's create a few engineered features to demonstrate our understanding of feature engineering."
   ]
  },
  {
   "cell_type": "code",
   "execution_count": null,
   "metadata": {},
   "source": [
    "# Create a copy of the DataFrame to avoid modifying the original\n",
    "housing_df_with_features = housing_df.copy()\n",
    "\n",
    "# Calculate rooms per household\n",
    "housing_df_with_features['RoomsPerHousehold'] = housing_df['AveRooms'] / housing_df['AveOccup']\n",
    "\n",
    "# Calculate bedrooms to rooms ratio\n",
    "housing_df_with_features['BedroomRatio'] = housing_df['AveBedrms'] / housing_df['AveRooms']\n",
    "\n",
    "# Calculate population density\n",
    "housing_df_with_features['PopulationDensity'] = housing_df['Population'] / housing_df['AveOccup']\n",
    "\n",
    "# Income to population ratio\n",
    "housing_df_with_features['IncomePerCapita'] = housing_df['MedInc'] / housing_df['AveOccup']\n",
    "\n",
    "# Create some geographical features using NumPy\n",
    "# Distance from a reference point (San Francisco: 37.7749, -122.4194)\n",
    "sf_lat, sf_lon = 37.7749, -122.4194\n",
    "\n",
    "# Calculate squared Euclidean distance (sufficient for relative comparisons)\n",
    "housing_df_with_features['DistanceToSF'] = np.sqrt(\n",
    "    (housing_df['Latitude'] - sf_lat)**2 + \n",
    "    (housing_df['Longitude'] - sf_lon)**2\n",
    ")\n",
    "\n",
    "# Calculate Haversine distance (more accurate for geographic distances)\n",
    "def haversine_distance(lat1, lon1, lat2, lon2):\n",
    "    # Convert to radians\n",
    "    lat1, lon1, lat2, lon2 = map(np.radians, [lat1, lon1, lat2, lon2])\n",
    "    \n",
    "    # Haversine formula\n",
    "    dlon = lon2 - lon1\n",
    "    dlat = lat2 - lat1\n",
    "    a = np.sin(dlat/2)**2 + np.cos(lat1) * np.cos(lat2) * np.sin(dlon/2)**2\n",
    "    c = 2 * np.arcsin(np.sqrt(a))\n",
    "    r = 6371  # Radius of Earth in kilometers\n",
    "    return c * r\n",
    "\n",
    "housing_df_with_features['HaversineDistToSF'] = haversine_distance(\n",
    "    housing_df['Latitude'], housing_df['Longitude'], sf_lat, sf_lon\n",
    ")\n",
    "\n",
    "# Display the first few rows with the new features\n",
    "housing_df_with_features.head()"
